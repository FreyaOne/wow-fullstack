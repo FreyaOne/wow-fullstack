{
 "cells": [
  {
   "cell_type": "code",
   "execution_count": 1,
   "metadata": {},
   "outputs": [],
   "source": [
    "queses = [\n",
    "    {'ques_title':'下列属于专利的是：','item_a':'发明','item_b':'实用新型','item_c':'外观设计','item_d':'商标','answer':'abc','ques_authorid':7},\n",
    "    {'ques_title':'下列期限不可延长的是：','item_a':'答复审','item_b':'专利保护期限届满','item_c':'优先权','item_d':'两年诉讼时效','answer':'bcd','ques_authorid':7},\n",
    "    {'ques_title':'会引起不予受理的缺陷是：','item_a':'实用新型缺少附图','item_b':'发明缺少摘要','item_c':'生物缺少摘要附图','item_d':'缺少专利代理委托书','answer':'a','ques_authorid':7}\n",
    "]"
   ]
  },
  {
   "cell_type": "code",
   "execution_count": 65,
   "metadata": {},
   "outputs": [],
   "source": [
    "with app.test_request_context():\n",
    "    user = Users.query.filter_by(name='潘晴').first()\n",
    "    user.phone = '15601688728'\n",
    "    user.set_password('111111')\n",
    "    db.session.commit()"
   ]
  },
  {
   "cell_type": "code",
   "execution_count": 1,
   "metadata": {},
   "outputs": [],
   "source": [
    "from flask import Flask\n",
    "import os\n",
    "from beknowmodels import *\n",
    "app = Flask(__name__)\n",
    "app.config['SQLALCHEMY_DATABASE_URI'] = Config.SQLALCHEMY_DATABASE_URI\n",
    "app.config['SQLALCHEMY_TRACK_MODIFICATIONS'] = False\n",
    "db.init_app(app)"
   ]
  },
  {
   "cell_type": "code",
   "execution_count": 16,
   "metadata": {},
   "outputs": [
    {
     "name": "stdout",
     "output_type": "stream",
     "text": [
      "80\n"
     ]
    }
   ],
   "source": [
    "from sqlalchemy import or_, and_\n",
    "with app.test_request_context():\n",
    "    articleitem = Biwen.query.filter(Biwen.hidden==0,or_(Biwen.privacy == None, Biwen.privacy == \"0\")).all()\n",
    "    a = 0\n",
    "    for ar in articleitem:\n",
    "        a += 1\n",
    "\n",
    "    print(a)"
   ]
  },
  {
   "cell_type": "code",
   "execution_count": 6,
   "metadata": {},
   "outputs": [
    {
     "data": {
      "text/plain": [
       "'状语从句'"
      ]
     },
     "execution_count": 6,
     "metadata": {},
     "output_type": "execute_result"
    }
   ],
   "source": [
    "tp.testpaper_title"
   ]
  },
  {
   "cell_type": "code",
   "execution_count": 2,
   "metadata": {},
   "outputs": [],
   "source": [
    "with app.test_request_context():\n",
    "    useritem = Users.query.filter_by(name=\"陈茜\").first()\n",
    "    useritem2 = Users.query.filter_by(name=\"黎伟\").first()\n",
    "    newbecoin = Becoinitems(\n",
    "        user_id = useritem.id,\n",
    "        user_name = useritem.name,\n",
    "        target_type = \"学习任务\",\n",
    "        target_id = 87,\n",
    "        oppo_type = \"发布人\",\n",
    "        oppo_name = \"黎伟\",\n",
    "        oppo_id = 35,\n",
    "        change = 1,\n",
    "        amount = 5,\n",
    "        balance = useritem.becoin+5,\n",
    "        comments = \"完成学习任务\",\n",
    "    )\n",
    "    db.session.add(newbecoin)\n",
    "    newbecoin2 = Becoinitems(\n",
    "        user_id = 35,\n",
    "        user_name = useritem2.name,\n",
    "        target_type = \"学习任务\",\n",
    "        target_id = 87,\n",
    "        oppo_type = \"执行人\",\n",
    "        oppo_name = useritem.name,\n",
    "        oppo_id = useritem.id,\n",
    "        change = -1,\n",
    "        amount = 5,\n",
    "        balance = useritem2.becoin-5,\n",
    "        comments = \"发布学习任务\",\n",
    "    )\n",
    "    db.session.add(newbecoin2)\n",
    "    useritem.becoin = useritem.becoin+5\n",
    "    useritem2.becoin = useritem2.becoin-5\n",
    "    db.session.commit()"
   ]
  },
  {
   "cell_type": "code",
   "execution_count": 5,
   "metadata": {},
   "outputs": [],
   "source": [
    "with app.test_request_context():\n",
    "    useritem = Users.query.filter_by(name=\"陈茜\").first()\n",
    "    useritem2 = Users.query.filter_by(name=\"雷梦丽\").first()\n",
    "    #useritem.becoin = useritem.becoin+5\n",
    "    useritem2.becoin = useritem2.becoin-5\n",
    "    db.session.commit()"
   ]
  },
  {
   "cell_type": "code",
   "execution_count": 5,
   "metadata": {},
   "outputs": [
    {
     "ename": "TypeError",
     "evalue": "Object of type Row is not JSON serializable",
     "output_type": "error",
     "traceback": [
      "\u001b[1;31m---------------------------------------------------------------------------\u001b[0m",
      "\u001b[1;31mTypeError\u001b[0m                                 Traceback (most recent call last)",
      "\u001b[1;32m~\\AppData\\Local\\Temp/ipykernel_12136/687905812.py\u001b[0m in \u001b[0;36m<module>\u001b[1;34m\u001b[0m\n\u001b[0;32m     10\u001b[0m         \u001b[0mQuestions\u001b[0m\u001b[1;33m.\u001b[0m\u001b[0manswer\u001b[0m\u001b[1;33m\u001b[0m\u001b[1;33m\u001b[0m\u001b[0m\n\u001b[0;32m     11\u001b[0m         ).filter_by(hidden=0).all()\n\u001b[1;32m---> 12\u001b[1;33m     \u001b[0mprint\u001b[0m\u001b[1;33m(\u001b[0m\u001b[0mjson\u001b[0m\u001b[1;33m.\u001b[0m\u001b[0mdumps\u001b[0m\u001b[1;33m(\u001b[0m\u001b[0mlist\u001b[0m\u001b[1;33m(\u001b[0m\u001b[0mqall\u001b[0m\u001b[1;33m)\u001b[0m\u001b[1;33m)\u001b[0m\u001b[1;33m)\u001b[0m\u001b[1;33m\u001b[0m\u001b[1;33m\u001b[0m\u001b[0m\n\u001b[0m\u001b[0;32m     13\u001b[0m     \u001b[1;31m# sql = '''\u001b[0m\u001b[1;33m\u001b[0m\u001b[1;33m\u001b[0m\u001b[1;33m\u001b[0m\u001b[0m\n\u001b[0;32m     14\u001b[0m     \u001b[1;31m# SELECT ques_value, ques_part from quizitems\u001b[0m\u001b[1;33m\u001b[0m\u001b[1;33m\u001b[0m\u001b[1;33m\u001b[0m\u001b[0m\n",
      "\u001b[1;32mD:\\Python 3.9.6\\lib\\json\\__init__.py\u001b[0m in \u001b[0;36mdumps\u001b[1;34m(obj, skipkeys, ensure_ascii, check_circular, allow_nan, cls, indent, separators, default, sort_keys, **kw)\u001b[0m\n\u001b[0;32m    229\u001b[0m         \u001b[0mcls\u001b[0m \u001b[1;32mis\u001b[0m \u001b[1;32mNone\u001b[0m \u001b[1;32mand\u001b[0m \u001b[0mindent\u001b[0m \u001b[1;32mis\u001b[0m \u001b[1;32mNone\u001b[0m \u001b[1;32mand\u001b[0m \u001b[0mseparators\u001b[0m \u001b[1;32mis\u001b[0m \u001b[1;32mNone\u001b[0m \u001b[1;32mand\u001b[0m\u001b[1;33m\u001b[0m\u001b[1;33m\u001b[0m\u001b[0m\n\u001b[0;32m    230\u001b[0m         default is None and not sort_keys and not kw):\n\u001b[1;32m--> 231\u001b[1;33m         \u001b[1;32mreturn\u001b[0m \u001b[0m_default_encoder\u001b[0m\u001b[1;33m.\u001b[0m\u001b[0mencode\u001b[0m\u001b[1;33m(\u001b[0m\u001b[0mobj\u001b[0m\u001b[1;33m)\u001b[0m\u001b[1;33m\u001b[0m\u001b[1;33m\u001b[0m\u001b[0m\n\u001b[0m\u001b[0;32m    232\u001b[0m     \u001b[1;32mif\u001b[0m \u001b[0mcls\u001b[0m \u001b[1;32mis\u001b[0m \u001b[1;32mNone\u001b[0m\u001b[1;33m:\u001b[0m\u001b[1;33m\u001b[0m\u001b[1;33m\u001b[0m\u001b[0m\n\u001b[0;32m    233\u001b[0m         \u001b[0mcls\u001b[0m \u001b[1;33m=\u001b[0m \u001b[0mJSONEncoder\u001b[0m\u001b[1;33m\u001b[0m\u001b[1;33m\u001b[0m\u001b[0m\n",
      "\u001b[1;32mD:\\Python 3.9.6\\lib\\json\\encoder.py\u001b[0m in \u001b[0;36mencode\u001b[1;34m(self, o)\u001b[0m\n\u001b[0;32m    197\u001b[0m         \u001b[1;31m# exceptions aren't as detailed.  The list call should be roughly\u001b[0m\u001b[1;33m\u001b[0m\u001b[1;33m\u001b[0m\u001b[1;33m\u001b[0m\u001b[0m\n\u001b[0;32m    198\u001b[0m         \u001b[1;31m# equivalent to the PySequence_Fast that ''.join() would do.\u001b[0m\u001b[1;33m\u001b[0m\u001b[1;33m\u001b[0m\u001b[1;33m\u001b[0m\u001b[0m\n\u001b[1;32m--> 199\u001b[1;33m         \u001b[0mchunks\u001b[0m \u001b[1;33m=\u001b[0m \u001b[0mself\u001b[0m\u001b[1;33m.\u001b[0m\u001b[0miterencode\u001b[0m\u001b[1;33m(\u001b[0m\u001b[0mo\u001b[0m\u001b[1;33m,\u001b[0m \u001b[0m_one_shot\u001b[0m\u001b[1;33m=\u001b[0m\u001b[1;32mTrue\u001b[0m\u001b[1;33m)\u001b[0m\u001b[1;33m\u001b[0m\u001b[1;33m\u001b[0m\u001b[0m\n\u001b[0m\u001b[0;32m    200\u001b[0m         \u001b[1;32mif\u001b[0m \u001b[1;32mnot\u001b[0m \u001b[0misinstance\u001b[0m\u001b[1;33m(\u001b[0m\u001b[0mchunks\u001b[0m\u001b[1;33m,\u001b[0m \u001b[1;33m(\u001b[0m\u001b[0mlist\u001b[0m\u001b[1;33m,\u001b[0m \u001b[0mtuple\u001b[0m\u001b[1;33m)\u001b[0m\u001b[1;33m)\u001b[0m\u001b[1;33m:\u001b[0m\u001b[1;33m\u001b[0m\u001b[1;33m\u001b[0m\u001b[0m\n\u001b[0;32m    201\u001b[0m             \u001b[0mchunks\u001b[0m \u001b[1;33m=\u001b[0m \u001b[0mlist\u001b[0m\u001b[1;33m(\u001b[0m\u001b[0mchunks\u001b[0m\u001b[1;33m)\u001b[0m\u001b[1;33m\u001b[0m\u001b[1;33m\u001b[0m\u001b[0m\n",
      "\u001b[1;32mD:\\Python 3.9.6\\lib\\json\\encoder.py\u001b[0m in \u001b[0;36miterencode\u001b[1;34m(self, o, _one_shot)\u001b[0m\n\u001b[0;32m    255\u001b[0m                 \u001b[0mself\u001b[0m\u001b[1;33m.\u001b[0m\u001b[0mkey_separator\u001b[0m\u001b[1;33m,\u001b[0m \u001b[0mself\u001b[0m\u001b[1;33m.\u001b[0m\u001b[0mitem_separator\u001b[0m\u001b[1;33m,\u001b[0m \u001b[0mself\u001b[0m\u001b[1;33m.\u001b[0m\u001b[0msort_keys\u001b[0m\u001b[1;33m,\u001b[0m\u001b[1;33m\u001b[0m\u001b[1;33m\u001b[0m\u001b[0m\n\u001b[0;32m    256\u001b[0m                 self.skipkeys, _one_shot)\n\u001b[1;32m--> 257\u001b[1;33m         \u001b[1;32mreturn\u001b[0m \u001b[0m_iterencode\u001b[0m\u001b[1;33m(\u001b[0m\u001b[0mo\u001b[0m\u001b[1;33m,\u001b[0m \u001b[1;36m0\u001b[0m\u001b[1;33m)\u001b[0m\u001b[1;33m\u001b[0m\u001b[1;33m\u001b[0m\u001b[0m\n\u001b[0m\u001b[0;32m    258\u001b[0m \u001b[1;33m\u001b[0m\u001b[0m\n\u001b[0;32m    259\u001b[0m def _make_iterencode(markers, _default, _encoder, _indent, _floatstr,\n",
      "\u001b[1;32mD:\\Python 3.9.6\\lib\\json\\encoder.py\u001b[0m in \u001b[0;36mdefault\u001b[1;34m(self, o)\u001b[0m\n\u001b[0;32m    177\u001b[0m \u001b[1;33m\u001b[0m\u001b[0m\n\u001b[0;32m    178\u001b[0m         \"\"\"\n\u001b[1;32m--> 179\u001b[1;33m         raise TypeError(f'Object of type {o.__class__.__name__} '\n\u001b[0m\u001b[0;32m    180\u001b[0m                         f'is not JSON serializable')\n\u001b[0;32m    181\u001b[0m \u001b[1;33m\u001b[0m\u001b[0m\n",
      "\u001b[1;31mTypeError\u001b[0m: Object of type Row is not JSON serializable"
     ]
    }
   ],
   "source": [
    "import json\n",
    "with app.test_request_context():\n",
    "    qall = Questions.query.with_entities(\n",
    "        Questions.quesid,\n",
    "        Questions.ques_title,\n",
    "        Questions.item_a,\n",
    "        Questions.item_b,\n",
    "        Questions.item_c,\n",
    "        Questions.item_d,\n",
    "        Questions.answer\n",
    "        ).filter_by(hidden=0).all()\n",
    "    print(json.dumps(list(qall)))\n",
    "    # sql = '''\n",
    "    # SELECT ques_value, ques_part from quizitems\n",
    "    # where testpaperid=%s and quesid=%s\n",
    "    # '''% (3,5)\n",
    "    # quiz = db.engine.execute(sql).fetchone()\n",
    "    # print(quiz[1])\n",
    "    # kaoguode = Paperperform.query.all()\n",
    "    # for kk in kaoguode:\n",
    "    #     tp = Testpapers.query.filter_by(testpaperid=kk.paper_id).first()\n",
    "    #     if kk.fullscore==0 and kk.paper_id==2:\n",
    "    #         kk.fullscore=7\n",
    "    #         kk.ques_amount=4\n",
    "    #     if kk.fullscore==0 and kk.paper_id==3:\n",
    "    #         kk.fullscore=tp.full_score\n",
    "    #         kk.ques_amount=tp.ques_amount\n",
    "    # db.session.commit()\n",
    "        # print(kk.fullscore)\n",
    "        # print(kk.ques_amount)\n",
    "        # print(tp.full_score)\n",
    "        # print(tp.ques_amount)"
   ]
  },
  {
   "cell_type": "code",
   "execution_count": 79,
   "metadata": {},
   "outputs": [
    {
     "name": "stdout",
     "output_type": "stream",
     "text": [
      "2022-01-19 14:41:35\n",
      "2022-01-19 14:21:35\n",
      "[('黎伟', 10, 35.6)]\n"
     ]
    }
   ],
   "source": [
    "with app.test_request_context():\n",
    "    # 输出一段时间间隔的所有贯贯成绩\n",
    "    # SELECT * FROM guanresult WHERE record_time between '2022-01-19 14:16:41' and '2022-01-19 10:56:41';\n",
    "    #rstquery = Guanresult.query.filter(Guanresult.record_time.between(nowss,pastss)).all()\n",
    "    span = 20\n",
    "    now = datetime.datetime.now()\n",
    "    past = now - datetime.timedelta(seconds= 60*span)\n",
    "    nowss = now.strftime(\"%Y-%m-%d %H:%M:%S\")\n",
    "    pastss = past.strftime(\"%Y-%m-%d %H:%M:%S\")\n",
    "    sql =\"SELECT player_name,bonus,sumtime FROM guanresult WHERE record_time between '%s' and '%s'\"%(pastss,nowss)\n",
    "    test = db.engine.execute(sql)\n",
    "    rstquery = test.fetchall()\n",
    "    print(rstquery)"
   ]
  },
  {
   "cell_type": "code",
   "execution_count": 67,
   "metadata": {},
   "outputs": [
    {
     "name": "stdout",
     "output_type": "stream",
     "text": [
      "2022-01-19 13:51:46.961536\n",
      "2022-01-19 13:49:46.961536\n"
     ]
    }
   ],
   "source": [
    "import datetime\n",
    "fen = 20\n",
    "now = datetime.datetime.now()\n",
    "past = now - datetime.timedelta(seconds= 60*fen)\n",
    "print(now)\n",
    "print(past)"
   ]
  },
  {
   "cell_type": "code",
   "execution_count": 12,
   "metadata": {},
   "outputs": [],
   "source": [
    "def addper(nm):\n",
    "    tmp = db.engine.execute(\"select NAME from knowmat where NAME = '%s' limit 1\"%nm)\n",
    "    ff = tmp.fetchone()\n",
    "    if not ff:\n",
    "        db.engine.execute(\"alter table knowmat add column %s INT DEFAULT 0\"%nm)\n",
    "        db.engine.execute(\"INSERT INTO knowmat (NAME) values('%s')\"%nm)\n",
    "        "
   ]
  },
  {
   "cell_type": "code",
   "execution_count": 14,
   "metadata": {},
   "outputs": [],
   "source": [
    "with app.test_request_context():\n",
    "    "
   ]
  },
  {
   "cell_type": "code",
   "execution_count": null,
   "metadata": {},
   "outputs": [
    {
     "name": "stdout",
     "output_type": "stream",
     "text": [
      "18\n"
     ]
    }
   ],
   "source": []
  },
  {
   "cell_type": "code",
   "execution_count": null,
   "metadata": {},
   "outputs": [],
   "source": [
    "    # queses = [\n",
    "    #     {'ques_title':'下列属于专利的是：','item_a':'发明','item_b':'实用新型','item_c':'外观设计','item_d':'商标','answer':'abc','ques_authorid':7},\n",
    "    #     {'ques_title':'下列期限不可延长的是：','item_a':'答复审','item_b':'专利保护期限届满','item_c':'优先权','item_d':'两年诉讼时效','answer':'bcd','ques_authorid':7},\n",
    "    #     {'ques_title':'会引起不予受理的缺陷是：','item_a':'实用新型缺少附图','item_b':'发明缺少摘要','item_c':'生物缺少摘要附图','item_d':'缺少专利代理委托书','answer':'a','ques_authorid':7}\n",
    "    # ]\n",
    "    # for q in queses:\n",
    "    #     ques = Questions(ques_title=q['ques_title'], item_a=q['item_a'],item_b=q['item_b'],item_c=q['item_c'],item_d=q['item_d'],answer=q['answer'],ques_authorid=q['ques_authorid'])\n",
    "    #     db.session.add(ques)\n",
    "    # db.session.commit()"
   ]
  },
  {
   "cell_type": "code",
   "execution_count": 5,
   "metadata": {},
   "outputs": [
    {
     "name": "stdout",
     "output_type": "stream",
     "text": [
      "[{'quesid': 1, 'ques_part': '新申请', 'ques_title': '下列属于专利的是：', 'item_a': '发明', 'item_b': '实用新型', 'item_c': '外观设计', 'item_d': '商标', 'answer': 'abc'}, {'quesid': 3, 'ques_part': '答辩', 'ques_title': '会引起不予受理的缺陷是：', 'item_a': '实用新型缺少附图', 'item_b': '发明缺少摘要', 'item_c': '生物缺少摘要附图', 'item_d': '缺少专利代理委托书', 'answer': 'a'}]\n"
     ]
    }
   ],
   "source": [
    "with app.test_request_context():\n",
    "    paperid = 2\n",
    "    sql = '''\n",
    "    SELECT quesid, ques_num, ques_value, ques_part from quizitems\n",
    "    where testpaperid=%d\n",
    "    order by ques_num\n",
    "    '''% paperid\n",
    "    test = db.engine.execute(sql)\n",
    "    allquiz = []\n",
    "    for tt in test:\n",
    "        quesitem = Questions.query.filter_by(quesid=tt[0]).first()\n",
    "        dictq = {}\n",
    "        dictq['quesid']=quesitem.quesid\n",
    "        dictq['ques_part']=tt[3]\n",
    "        dictq['ques_title']=quesitem.ques_title\n",
    "        dictq['item_a']=quesitem.item_a\n",
    "        dictq['item_b']=quesitem.item_b\n",
    "        dictq['item_c']=quesitem.item_c\n",
    "        dictq['item_d']=quesitem.item_d\n",
    "        dictq['answer']=quesitem.answer\n",
    "        allquiz.append(dictq)\n",
    "    print(allquiz)"
   ]
  },
  {
   "cell_type": "code",
   "execution_count": 2,
   "metadata": {},
   "outputs": [],
   "source": [
    "import pandas as pd\n",
    "import numpy as np\n",
    "data = pd.read_excel(r\"\\\\ad-server\\2.9人事行政\\5.人事共享信息\\弼兴员工通讯录.xlsx\",header=2, sheet_name = None)\n",
    "dflist = [data[dd] for dd in data]\n",
    "df = pd.concat(dflist)\n",
    "df = df.dropna(axis=0,subset = [\"工号\"])\n",
    "df.drop_duplicates(subset=[\"工号\"],keep='first',inplace=True)\n",
    "df = df.reset_index(drop=True)\n",
    "df = df.fillna('')\n",
    "for i in range(len(df)):\n",
    "    if len(df[\"手机\"][i])>13:\n",
    "        df.loc[i,\"手机\"]=df[\"手机\"][i][:13]\n",
    "    if not pd.isna(df[\"工号\"][i]):\n",
    "        df.loc[i,\"手机\"]=df[\"手机\"][i].replace(\"-\", \"\")\n",
    "for i in range(1,len(df)):\n",
    "    if not pd.isna(df[\"工号\"][i]):\n",
    "        if pd.isna(df[\"部门\"][i]):\n",
    "            if not pd.isna(df[\"部门\"][i-1]):\n",
    "                df.loc[i,\"部门\"]=df[\"部门\"][i-1]\n",
    "df = df[[\"手机\",\"姓名\",\"工号\",\"部门\"]]\n",
    "df = df.sort_values(by=\"工号\")\n",
    "df = df.reset_index(drop=True)\n",
    "df['工号']=df['工号'].astype(np.int64)"
   ]
  },
  {
   "cell_type": "code",
   "execution_count": 5,
   "metadata": {},
   "outputs": [
    {
     "data": {
      "text/plain": [
       "手机       \n",
       "姓名    林俊明\n",
       "工号    427\n",
       "部门       \n",
       "Name: 220, dtype: object"
      ]
     },
     "execution_count": 5,
     "metadata": {},
     "output_type": "execute_result"
    }
   ],
   "source": [
    "df.iloc[220]"
   ]
  },
  {
   "cell_type": "code",
   "execution_count": 15,
   "metadata": {},
   "outputs": [
    {
     "name": "stdout",
     "output_type": "stream",
     "text": [
      "['薛琦', '钟华', '余化鹏', '李婕', '徐婕超', '王烜智', '胡成红', '申悦梅', '吴珉玥', '刘晓燕', '王梦婷', '潘莹', '刘瑞鸿', '王宇奥', '罗洋', '任家会', '刘洋', '汤恩洋', '卜子雯', '张茜', '张瑞', '阎雅雯', '孙苗', '刘青', '赵舒捷', '马涛', '江淑美', '周奕君', '黄益澍', '吕学辰', '祝艳', '袁文正', '水文钰', '万凤居', '王梦飞', '刘奉丽', '张云燕', '王芳', '宗雯雯', '朱玉', '周蓓蓓', '欧阳小茜', '余诗怡', '陈卓', '蔡立丰', '马续红', '何敏清', '陈凯丽', '孟成', '高曼凌', '周云云', '周晨', '徐怡文', '鲍湘灵', '郁雯', '胡悦', '陈敏', '沈佳琪', '王瑾', '耿庆庆', '徐铮', '严晓涵', '黄德翔', '宋梓薇', '钱哲文', '袁红', '叶琏刚', '高晓莉', '程青', '金明花', '徐佳辰', '刘轩然', '黄大任', '李银玲', '谈歆玥', '陈昌莹', '黄丹桂', '石慧麟', '蒋黎', '王莹', '邹玲', '郑众琳', '刘怡婷', '王寒', '赵昕悦', '朱怡融', '陈陶', '黎伟', '马静', '洪怡筠', '江梦雨', '俞文倩', '王姗姗', '顾晨', '尉丽燕', '陈佳怡', '朱臆桦', '祖振森', '应达', '曹海燕', '马媛园']\n"
     ]
    }
   ],
   "source": [
    "import pandas as pd\n",
    "import numpy as np\n",
    "import pickle\n",
    "\n",
    "#读取pickle对象\n",
    "pipath = \"../guanguan/static/allstaff.pickle\"\n",
    "f = open(pipath, 'rb')\n",
    "allstaff = pickle.load(f)\n",
    "f.close()\n",
    "\n",
    "df1 = pd.DataFrame(allstaff)\n",
    "ren = df1.columns.tolist()\n",
    "lala = []\n",
    "for i in range(len(ren)):\n",
    "    if df1.iat[6,i]==1:\n",
    "        lala.append(df1.iat[1,i])\n",
    "print(lala)"
   ]
  },
  {
   "cell_type": "code",
   "execution_count": 53,
   "metadata": {},
   "outputs": [
    {
     "data": {
      "text/plain": [
       "'0201'"
      ]
     },
     "execution_count": 53,
     "metadata": {},
     "output_type": "execute_result"
    }
   ],
   "source": [
    "df1[\"陈昌莹\"]['gonghao']"
   ]
  },
  {
   "cell_type": "code",
   "execution_count": 34,
   "metadata": {},
   "outputs": [],
   "source": [
    "lala.remove(\"水文钰\")"
   ]
  },
  {
   "cell_type": "code",
   "execution_count": 52,
   "metadata": {},
   "outputs": [
    {
     "name": "stdout",
     "output_type": "stream",
     "text": [
      "[]\n"
     ]
    }
   ],
   "source": [
    "with app.test_request_context():\n",
    "    import os\n",
    "    picper = os.listdir(\"../guanguan/static/images/coworker\")\n",
    "\n",
    "    picpers = [x[:-4] for x in picper]\n",
    "    tplist = []\n",
    "    for nm in lala:\n",
    "        tp = Users.query.filter_by(name=nm,picpath=None).first()\n",
    "        if tp and nm not in picpers and tp.picnum==1 :\n",
    "            tplist.append(df1[nm]['name'])\n",
    "            tp.picnum = 0\n",
    "            # tp.xueli = df1[nm]['xueli']\n",
    "            # tp.xuexiao = df1[nm]['xuexiao']\n",
    "            # tp.zhuanye = df1[nm]['zhuanye']\n",
    "            # tp.aihao = df1[nm]['aihao']\n",
    "            # tp.ziwo = str(df1[nm]['ziwo'])\n",
    "            db.session.commit()\n",
    "    print(tplist)\n",
    "    # if not ff:\n",
    "    #     db.engine.execute(\"alter table knowmat add column %s INT DEFAULT 0\"%nm)\n",
    "    #     db.engine.execute(\"INSERT INTO knowmat (NAME) values('%s')\"%nm)"
   ]
  },
  {
   "cell_type": "code",
   "execution_count": 28,
   "metadata": {},
   "outputs": [
    {
     "name": "stdout",
     "output_type": "stream",
     "text": [
      "['avantar', 'Thumb', '万凤居', '严晓涵', '何敏清', '刘奉丽', '刘洋', '刘瑞鸿', '刘轩然', '刘青', '卜子雯', '叶琏刚', '吕学辰', '周云云', '周奕君', '周晨', '周蓓蓓', '孟成', '宋梓薇', '宗雯雯', '应达', '张云燕', '张瑞', '张茜', '徐佳辰', '徐婕超', '徐怡文', '朱玉', '李婕', '李银玲', '欧海州', '水文钰', '江梦雨', '江淑美', '汤恩洋', '沈佳琪', '洪怡筠', '王卫彬', '王姗姗', '王宇奥', '王寒', '王梦婷', '王梦飞', '王烜智', '王瑾', '王芳', '王莹', '石慧麟', '祝艳', '程青', '罗洋', '耿庆庆', '胡悦', '胡成红', '蒋黎', '蒲小秋', '蔡立丰', '袁文正', '袁红', '谈歆玥', '赵昕悦', '赵舒捷', '邹玲', '郑众琳', '金明花', '钟华', '阎雅雯', '陈佳怡', '陈卓', '陈敏', '陈昌莹', '陈陶', '韩雪娇', '顾晨', '马媛园', '马涛', '马续红', '马静', '高晓莉', '鲍湘灵', '黄丹桂', '黄大任', '黄德翔', '黄益澍', '黎伟']\n"
     ]
    }
   ],
   "source": [
    "import os\n",
    "picper = os.listdir(\"../guanguan/static/images/coworker\")\n",
    "\n",
    "picpers = [x[:-4] for x in picper]\n",
    "print(picpers)"
   ]
  },
  {
   "cell_type": "code",
   "execution_count": 15,
   "metadata": {},
   "outputs": [
    {
     "data": {
      "text/plain": [
       "gonghao                                0006\n",
       "name                                     钟华\n",
       "gender                                    女\n",
       "shenfen                                 合伙人\n",
       "bumen                                 合伙人会议\n",
       "jiguan                                   江西\n",
       "picnum                                    1\n",
       "xingzuo                                 射手座\n",
       "xueli                                    硕士\n",
       "xuexiao                                复旦大学\n",
       "zhuanye                                  化学\n",
       "aihao                     看电影，逛艺术馆，打游戏，科幻小说\n",
       "ziwo                        希望和同事一起享受工作和生活。\n",
       "picpath    ../static/images/coworker/钟华.jpg\n",
       "Name: 钟华, dtype: object"
      ]
     },
     "execution_count": 15,
     "metadata": {},
     "output_type": "execute_result"
    }
   ],
   "source": [
    "df1['钟华']"
   ]
  },
  {
   "cell_type": "code",
   "execution_count": 45,
   "metadata": {},
   "outputs": [
    {
     "data": {
      "text/plain": [
       "'胡悦'"
      ]
     },
     "execution_count": 45,
     "metadata": {},
     "output_type": "execute_result"
    }
   ],
   "source": [
    "df1.iloc[:,97]['name']"
   ]
  },
  {
   "cell_type": "code",
   "execution_count": 7,
   "metadata": {},
   "outputs": [],
   "source": [
    "with app.test_request_context():\n",
    "    tp = Users.query.all()\n",
    "    for tt in tp:\n",
    "        if tt.bumen==\"专利综合发展部\":\n",
    "            tt.bumen==\"专利实务综合发展部\"\n",
    "    db.session.commit()"
   ]
  },
  {
   "cell_type": "code",
   "execution_count": 6,
   "metadata": {},
   "outputs": [
    {
     "name": "stdout",
     "output_type": "stream",
     "text": [
      "[['系统', '质控部'], ['巩秋', '涉外专利秘书部'], ['杨婉冰', '专利实务综合发展部'], ['全晓雯', '法律部'], ['孟祥翔', '专利实务综合发展部'], ['唐易合', '流程管理部'], ['凌海容', '专利实务综合发展部'], ['陈玉旻', '法律部'], ['胡星烨', '人事行政部'], ['马徐阳子', '涉外专利代理部'], ['赵佳丽', '人事行政部'], ['万映洁', '业务流程综合发展部'], ['金择中', '专利实务综合发展部'], ['高瑞丽', '业务流程综合发展部'], ['田悦', '专利实务综合发展部'], ['高敬伟', '专利实务综合发展部'], ['倪珂帆', '专利实务综合发展部'], ['李小俊', '专利实务综合发展部'], ['雷凤', '专利实务综合发展部'], ['陈昌莹', '涉外专利秘书部'], ['王晶晶', '国内专利秘书部'], ['孟佳', '人事行政部'], ['谢敏灵', '专利实务综合发展部'], ['王珊', '专利实务综合发展部'], ['张鹏飞', '专利实务综合发展部'], ['吕东东', '专利实务综合发展部'], ['吴晓龙', '专利实务综合发展部'], ['纪雨辛', '专利实务综合发展部'], ['邓将富', '专利实务综合发展部'], ['王俊洁', '专利实务综合发展部'], ['周冰妹', '专利实务综合发展部'], ['郭彩虹', '专利实务综合发展部'], ['李杰惠', '商标版权部'], ['张薇', '专利实务综合发展部'], ['黄诺', '涉外专利秘书部'], ['倪莎', '专利实务综合发展部'], ['黄诗林', '专利实务综合发展部'], ['金银强', '专利实务综合发展部'], ['金美延', '涉外专利代理部'], ['杨怡晨', '专利实务综合发展部'], ['苏戈', '专利实务综合发展部'], ['黄莹', '专利实务综合发展部'], ['段榆', '专利实务综合发展部'], ['李洪波', '专利实务综合发展部'], ['陈茜', '专利实务综合发展部'], ['李倩', '专利实务综合发展部'], ['汤华清', '专利实务综合发展部'], ['李航', '专利实务综合发展部'], ['杨铭', '专利实务综合发展部'], ['吴越平', '人事行政部'], ['李嘉懿', '业务流程综合发展部'], ['张雪松', '专利实务综合发展部'], ['陈朱媛', '业务流程综合发展部'], ['黄松松', '专利实务综合发展部'], ['王浩亮', '专利实务综合发展部'], ['牛欣洁', '涉外专利秘书部'], ['刘子怡', '涉外专利秘书部'], ['曾少丽', '专利实务综合发展部'], ['周予希', '专利实务综合发展部'], ['郭超', '专利实务综合发展部'], ['林俊明', ''], ['董飞鸿', ''], ['郭铮铮', ''], ['何嘉俐', ''], ['李雯', ''], ['朱琳', ''], ['贾鹏', ''], ['马瑜', ''], ['陈曼瑶', ''], ['王霞', ''], ['陈花莲', ''], ['郭铮铮', '专利实务综合发展部']]\n"
     ]
    }
   ],
   "source": [
    "with app.test_request_context():\n",
    "    tplist = []\n",
    "    tp = Users.query.all()\n",
    "    for tt in tp:\n",
    "        if tt.picnum !=1:\n",
    "            tmp = []\n",
    "            tmp.append(tt.name)\n",
    "            tmp.append(tt.bumen)\n",
    "            tplist.append(tmp)\n",
    "    print(tplist)"
   ]
  },
  {
   "cell_type": "code",
   "execution_count": 59,
   "metadata": {},
   "outputs": [],
   "source": [
    "#新增工作簿\n",
    "import xlwings\n",
    "xlpath = r'E:\\Csharp\\无照片.xlsx'\n",
    "app = xlwings.App(visible=False, add_book=False)\n",
    "wb = app.books.open(xlpath)\n",
    "sht = wb.sheets[\"Sheet1\"]\n",
    "sht[0,0].value=tplist\n",
    "wb.save()\n",
    "wb.close()"
   ]
  },
  {
   "cell_type": "code",
   "execution_count": 44,
   "metadata": {},
   "outputs": [
    {
     "data": {
      "text/html": [
       "<div>\n",
       "<style scoped>\n",
       "    .dataframe tbody tr th:only-of-type {\n",
       "        vertical-align: middle;\n",
       "    }\n",
       "\n",
       "    .dataframe tbody tr th {\n",
       "        vertical-align: top;\n",
       "    }\n",
       "\n",
       "    .dataframe thead th {\n",
       "        text-align: right;\n",
       "    }\n",
       "</style>\n",
       "<table border=\"1\" class=\"dataframe\">\n",
       "  <thead>\n",
       "    <tr style=\"text-align: right;\">\n",
       "      <th></th>\n",
       "      <th>薛琦</th>\n",
       "      <th>朱水平</th>\n",
       "      <th>钟华</th>\n",
       "      <th>杨东明</th>\n",
       "      <th>王卫彬</th>\n",
       "      <th>余化鹏</th>\n",
       "      <th>李婕</th>\n",
       "      <th>罗朗</th>\n",
       "      <th>徐婕超</th>\n",
       "      <th>王烜智</th>\n",
       "      <th>...</th>\n",
       "      <th>李季洪</th>\n",
       "      <th>王彦</th>\n",
       "      <th>祖振森</th>\n",
       "      <th>应达</th>\n",
       "      <th>胡美强</th>\n",
       "      <th>范月兰</th>\n",
       "      <th>韩宝富</th>\n",
       "      <th>曹海燕</th>\n",
       "      <th>马媛园</th>\n",
       "      <th>汪旭圣</th>\n",
       "    </tr>\n",
       "  </thead>\n",
       "  <tbody>\n",
       "    <tr>\n",
       "      <th>gonghao</th>\n",
       "      <td>0001</td>\n",
       "      <td>0002</td>\n",
       "      <td>0006</td>\n",
       "      <td>0005</td>\n",
       "      <td>0009</td>\n",
       "      <td>0010</td>\n",
       "      <td>0008</td>\n",
       "      <td>0017</td>\n",
       "      <td>0018</td>\n",
       "      <td>0118</td>\n",
       "      <td>...</td>\n",
       "      <td>0039</td>\n",
       "      <td>0177</td>\n",
       "      <td>0243</td>\n",
       "      <td>0263</td>\n",
       "      <td>0003</td>\n",
       "      <td>0031</td>\n",
       "      <td>0251</td>\n",
       "      <td>2051</td>\n",
       "      <td>0268</td>\n",
       "      <td>2047</td>\n",
       "    </tr>\n",
       "    <tr>\n",
       "      <th>name</th>\n",
       "      <td>薛琦</td>\n",
       "      <td>朱水平</td>\n",
       "      <td>钟华</td>\n",
       "      <td>杨东明</td>\n",
       "      <td>王卫彬</td>\n",
       "      <td>余化鹏</td>\n",
       "      <td>李婕</td>\n",
       "      <td>罗朗</td>\n",
       "      <td>徐婕超</td>\n",
       "      <td>王烜智</td>\n",
       "      <td>...</td>\n",
       "      <td>李季洪</td>\n",
       "      <td>王彦</td>\n",
       "      <td>祖振森</td>\n",
       "      <td>应达</td>\n",
       "      <td>胡美强</td>\n",
       "      <td>范月兰</td>\n",
       "      <td>韩宝富</td>\n",
       "      <td>曹海燕</td>\n",
       "      <td>马媛园</td>\n",
       "      <td>汪旭圣</td>\n",
       "    </tr>\n",
       "    <tr>\n",
       "      <th>gender</th>\n",
       "      <td>男</td>\n",
       "      <td>女</td>\n",
       "      <td>女</td>\n",
       "      <td>男</td>\n",
       "      <td>男</td>\n",
       "      <td>女</td>\n",
       "      <td>女</td>\n",
       "      <td>男</td>\n",
       "      <td>女</td>\n",
       "      <td>女</td>\n",
       "      <td>...</td>\n",
       "      <td>男</td>\n",
       "      <td>女</td>\n",
       "      <td>男</td>\n",
       "      <td>男</td>\n",
       "      <td>男</td>\n",
       "      <td>女</td>\n",
       "      <td>男</td>\n",
       "      <td>女</td>\n",
       "      <td>女</td>\n",
       "      <td>男</td>\n",
       "    </tr>\n",
       "    <tr>\n",
       "      <th>shenfen</th>\n",
       "      <td>合伙人</td>\n",
       "      <td>合伙人</td>\n",
       "      <td>合伙人</td>\n",
       "      <td>合伙人</td>\n",
       "      <td>合伙人</td>\n",
       "      <td>合伙人</td>\n",
       "      <td>合伙人</td>\n",
       "      <td>合伙人</td>\n",
       "      <td>合伙人</td>\n",
       "      <td>非代理人</td>\n",
       "      <td>...</td>\n",
       "      <td>非代理人</td>\n",
       "      <td>非代理人</td>\n",
       "      <td>非代理人</td>\n",
       "      <td>非代理人</td>\n",
       "      <td>代理人</td>\n",
       "      <td>代理人</td>\n",
       "      <td>非代理人</td>\n",
       "      <td>非代理人</td>\n",
       "      <td>非代理人</td>\n",
       "      <td>非代理人</td>\n",
       "    </tr>\n",
       "    <tr>\n",
       "      <th>bumen</th>\n",
       "      <td>合伙人会议</td>\n",
       "      <td>合伙人会议</td>\n",
       "      <td>合伙人会议</td>\n",
       "      <td>合伙人会议</td>\n",
       "      <td>合伙人会议</td>\n",
       "      <td>合伙人会议</td>\n",
       "      <td>合伙人会议</td>\n",
       "      <td>合伙人会议</td>\n",
       "      <td>合伙人会议</td>\n",
       "      <td>市场部</td>\n",
       "      <td>...</td>\n",
       "      <td>信息管理部</td>\n",
       "      <td>信息管理部</td>\n",
       "      <td>信息管理部</td>\n",
       "      <td>信息管理部</td>\n",
       "      <td>其他</td>\n",
       "      <td>其他</td>\n",
       "      <td>其他</td>\n",
       "      <td>国内流程部</td>\n",
       "      <td>涉外秘书部</td>\n",
       "      <td>涉外秘书部</td>\n",
       "    </tr>\n",
       "  </tbody>\n",
       "</table>\n",
       "<p>5 rows × 178 columns</p>\n",
       "</div>"
      ],
      "text/plain": [
       "            薛琦    朱水平     钟华    杨东明    王卫彬    余化鹏     李婕     罗朗    徐婕超   王烜智  \\\n",
       "gonghao   0001   0002   0006   0005   0009   0010   0008   0017   0018  0118   \n",
       "name        薛琦    朱水平     钟华    杨东明    王卫彬    余化鹏     李婕     罗朗    徐婕超   王烜智   \n",
       "gender       男      女      女      男      男      女      女      男      女     女   \n",
       "shenfen    合伙人    合伙人    合伙人    合伙人    合伙人    合伙人    合伙人    合伙人    合伙人  非代理人   \n",
       "bumen    合伙人会议  合伙人会议  合伙人会议  合伙人会议  合伙人会议  合伙人会议  合伙人会议  合伙人会议  合伙人会议   市场部   \n",
       "\n",
       "         ...    李季洪     王彦    祖振森     应达   胡美强   范月兰   韩宝富    曹海燕    马媛园  \\\n",
       "gonghao  ...   0039   0177   0243   0263  0003  0031  0251   2051   0268   \n",
       "name     ...    李季洪     王彦    祖振森     应达   胡美强   范月兰   韩宝富    曹海燕    马媛园   \n",
       "gender   ...      男      女      男      男     男     女     男      女      女   \n",
       "shenfen  ...   非代理人   非代理人   非代理人   非代理人   代理人   代理人  非代理人   非代理人   非代理人   \n",
       "bumen    ...  信息管理部  信息管理部  信息管理部  信息管理部    其他    其他    其他  国内流程部  涉外秘书部   \n",
       "\n",
       "           汪旭圣  \n",
       "gonghao   2047  \n",
       "name       汪旭圣  \n",
       "gender       男  \n",
       "shenfen   非代理人  \n",
       "bumen    涉外秘书部  \n",
       "\n",
       "[5 rows x 178 columns]"
      ]
     },
     "execution_count": 44,
     "metadata": {},
     "output_type": "execute_result"
    }
   ],
   "source": [
    "df1.head()"
   ]
  },
  {
   "cell_type": "code",
   "execution_count": 16,
   "metadata": {},
   "outputs": [],
   "source": [
    "with app.test_request_context():\n",
    "    for i in range(176):\n",
    "        name=df1.iloc[:,i]['name']\n",
    "        useritem = Users.query.filter_by(name=name).first()\n",
    "        if useritem:\n",
    "            useritem.gender = df1[name]['gender']\n",
    "            useritem.shenfen = df1[name]['shenfen']\n",
    "            useritem.jiguan = df1[name]['jiguan']\n",
    "            useritem.picnum = df1[name]['picnum']\n",
    "            if df1[name]['picnum']>0:\n",
    "                #print(useritem.phone)\n",
    "                useritem.xingzuo = df1[name]['xingzuo']\n",
    "                useritem.xueli = df1[name]['xueli']\n",
    "                useritem.xuexiao = df1[name]['xuexiao']\n",
    "                useritem.zhuanye = df1[name]['zhuanye']\n",
    "                useritem.aihao = df1[name]['aihao']\n",
    "                useritem.ziwo = df1[name]['ziwo']\n",
    "                useritem.picpath = df1[name]['picpath']\n",
    "    db.session.commit()\n",
    "    "
   ]
  },
  {
   "cell_type": "code",
   "execution_count": 20,
   "metadata": {},
   "outputs": [
    {
     "name": "stdout",
     "output_type": "stream",
     "text": [
      "['罗洋', '黎伟', '马涛', '黄益澍', '程青', '徐佳辰', '叶琏刚', '黄大任', '周奕君', '汤恩洋', '刘瑞鸿', '王宇奥', '陈陶', '张瑞']\n"
     ]
    }
   ],
   "source": [
    "with app.test_request_context():\n",
    "    nanquery = Users.query.with_entities(Users.name).filter_by(gender='男',picnum=1).all()\n",
    "    nanlist = [x[0] for x in nanquery]\n",
    "    print(nanlist)\n"
   ]
  },
  {
   "cell_type": "code",
   "execution_count": 22,
   "metadata": {},
   "outputs": [
    {
     "name": "stdout",
     "output_type": "stream",
     "text": [
      "['薛琦', '朱水平', '胡美强', '丁慧', '杨东明', '钟华', '李婕', '王卫彬', '余化鹏', '陈敏', '罗洋', '石慧麟', '罗朗', '徐婕超', '何桥云', '邹玲', '李梦园', '袁红', '王燕', '范月兰', '陈卓', '刘奉丽', '王逸君', '赵禹涵', '沈佳琪', '李季洪', '尤佳', '金学来', '高晓莉', '李梦男', '周秦红', '王姗姗', '曾莺华', '叶静莹', '黎伟', '周冰玉', '刘怡婷', '徐怡文', '吕学辰', '郑众琳', '蔡立丰', '蔡烨平', '马涛', '黄益澍', '王寒', '孙苗', '林嵩', '倪丽红', '程小萍', '苏婉芳', '张云燕', '王瑾', '王烜智', '马续红', '程青', '何敏清', '谢小英', '耿庆庆', '金明花', '蒋黎', '谈歆玥', '吴悦', '洪怡筠', '鲍湘灵', '周颖', '朱翔文', '刘青', '马静', '欧海州', '徐佳辰', '王芳', '宗雯雯', '刘轩然', '江梦雨', '何涛', '朱玉', '叶琏刚', '甘雯丽', '任家会', '王彦', '刘洋', '孟成', '严晓涵', '孟缘', '滕广青', '袁文正', '周蓓蓓', '李银玲', '张璟', '黄大任', '胡成红', '江淑美', '王婧', '陈昌莹', '李静', '陈臻立', '吴珉玥', '水文钰', '黄丹桂', '吴晓娜', '周奕君', '蒲小秋', '汤恩洋', '姜信欣', '卜子雯', '欧阳小茜', '刘瑞鸿', '谭苏荻', '刘晓燕', '王梦婷', '周云云', '顾晨', '陈佳怡', '赵昕悦', '梁晟', '吕含清', '宋梓薇', '胡悦', '鲍伟', '王辉', '朱怡融', '王莹', '韩宝富', '庄海滔', '王梦飞', '王宇奥', '张茜', '陈陶', '张瑞', '赵舒捷', '应达', '李云', '李天星', '陈骊', '周玉洁', '李塬', '仲伟昆', '韩宇珍', '毛燕', '黄艳', '桑玉喜', '史文', '李兢', '刘豹', '胡哲韡', '蔡亦皓', '王晶晶', '严兰欣', '唐成吉', '王丹', '邢莉', '李国芳', '梅园园', '罗小丽', '牛倩', '陆忆文', '胡薇', '张玉', '谭家晟', '陈帅君', '俞佳茗', '沈宁洁', '杨亭', '杨宇成', '戴子杰', '段启苗', '吴国文', '李小芳', '张帅', '朱映坪', '钱哲文', '阎雅雯', '白洋', '苏钰雯', '吴静酝', '王蓓', '刘力宇', '季灵', '顾晋', '谢飞', '王静纯', '姜雅婧', '王玥', '单婵', '李晓东', '赵凌云', '郝玉颖', '叶东', '范玮玮', '汪宸玥', '姜秀妍', '田珂弋', '余忠景', '周朕昱', '邵竞', '陈柏如', '刘才', '冯佳慧', '朴麒安', '杨自芳', '李美尽', '吴田恬', '周楚怡', '王小荣', '高来凤', '陈青', '裴继从', '陈臻晔', '黎毅鹏', '丁丹骏', '赵萍', '卞沛', '叶佳惠', '孙程', '蒋薇', '张显伟', '朱模麟', '周媛', '叶瑞', '韩雪娇', '王帅', '陈昕', '李智', '张楠', '黄家豪', '孔郡君', '雷梦丽', '蔡亦林', '王东华', '汪宇航', '王诗懿']\n"
     ]
    }
   ],
   "source": [
    "import pandas as pd\n",
    "import pickle\n",
    "#读取pickle对象\n",
    "knowpath = \"../guanguan/static/knowmat.pickle\"\n",
    "f = open(knowpath, 'rb')\n",
    "knowmat = pickle.load(f)\n",
    "f.close()\n",
    "with app.test_request_context():\n",
    "    namequery = Users.query.with_entities(Users.name).all()\n",
    "    ren = [x[0] for x in namequery]\n",
    "    print(ren)\n",
    "    for rr in ren:\n",
    "        if rr not in knowmat:\n",
    "            knowmat[rr]=0.0\n",
    "            knowmat.loc[rr]=0.0\n",
    "    f = open(knowpath, 'wb')\n",
    "    pickle.dump(knowmat,f)\n",
    "    f.close()"
   ]
  }
 ],
 "metadata": {
  "kernelspec": {
   "display_name": "Python 3.9.6 64-bit",
   "language": "python",
   "name": "python3"
  },
  "language_info": {
   "codemirror_mode": {
    "name": "ipython",
    "version": 3
   },
   "file_extension": ".py",
   "mimetype": "text/x-python",
   "name": "python",
   "nbconvert_exporter": "python",
   "pygments_lexer": "ipython3",
   "version": "3.6.8"
  },
  "vscode": {
   "interpreter": {
    "hash": "6d6dd135382173a5fa635433687e4d214dce36007e379c9f49012b8cf0622f6f"
   }
  }
 },
 "nbformat": 4,
 "nbformat_minor": 2
}
